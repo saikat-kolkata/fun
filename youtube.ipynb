{
 "cells": [
  {
   "cell_type": "markdown",
   "metadata": {},
   "source": [
    "---\n",
    "<H1> Download youtube videos by just pasting the link </h1>\n",
    "\n",
    "---\n"
   ]
  },
  {
   "cell_type": "code",
   "execution_count": 7,
   "metadata": {},
   "outputs": [],
   "source": [
    "# import YouTube from pytube\n",
    "from pytube import YouTube\n",
    "\n",
    "#install pytube and if it's throwing error add pytube3"
   ]
  },
  {
   "cell_type": "code",
   "execution_count": 14,
   "metadata": {},
   "outputs": [
    {
     "name": "stdout",
     "output_type": "stream",
     "text": [
      "https://youtu.be/zI2HJONbT5Ahttps://youtu.be/zI2HJONbT5A\n"
     ]
    }
   ],
   "source": [
    "#enter link here\n",
    "link = input(\"Your link\")\n",
    "\n"
   ]
  },
  {
   "cell_type": "code",
   "execution_count": 15,
   "metadata": {},
   "outputs": [
    {
     "name": "stdout",
     "output_type": "stream",
     "text": [
      "Downloding...\n",
      "Video downloaded successfully\n"
     ]
    }
   ],
   "source": [
    "print(\"Downloding...\")\n",
    "#code to download Video\n",
    "YouTube(link).streams.first().download()\n",
    "print(\"Video downloaded successfully\")"
   ]
  }
 ],
 "metadata": {
  "kernelspec": {
   "display_name": "Python 3",
   "language": "python",
   "name": "python3"
  },
  "language_info": {
   "codemirror_mode": {
    "name": "ipython",
    "version": 3
   },
   "file_extension": ".py",
   "mimetype": "text/x-python",
   "name": "python",
   "nbconvert_exporter": "python",
   "pygments_lexer": "ipython3",
   "version": "3.7.6"
  }
 },
 "nbformat": 4,
 "nbformat_minor": 4
}
